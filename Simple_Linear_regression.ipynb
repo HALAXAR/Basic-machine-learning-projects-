{
  "nbformat": 4,
  "nbformat_minor": 0,
  "metadata": {
    "colab": {
      "provenance": [],
      "authorship_tag": "ABX9TyOl82ISQR9mFmvOJRERuIRt",
      "include_colab_link": true
    },
    "kernelspec": {
      "name": "python3",
      "display_name": "Python 3"
    },
    "language_info": {
      "name": "python"
    }
  },
  "cells": [
    {
      "cell_type": "markdown",
      "metadata": {
        "id": "view-in-github",
        "colab_type": "text"
      },
      "source": [
        "<a href=\"https://colab.research.google.com/github/HALAXAR/Basic-machine-learning-projects-/blob/main/Simple_Linear_regression.ipynb\" target=\"_parent\"><img src=\"https://colab.research.google.com/assets/colab-badge.svg\" alt=\"Open In Colab\"/></a>"
      ]
    },
    {
      "cell_type": "markdown",
      "source": [
        "## Importing necessary libraries"
      ],
      "metadata": {
        "id": "uvxg0H3PM-ef"
      }
    },
    {
      "cell_type": "code",
      "execution_count": 1,
      "metadata": {
        "id": "q8nVUNJXMbMD"
      },
      "outputs": [],
      "source": [
        "import torch\n",
        "import numpy as np\n",
        "import matplotlib.pyplot as plt\n",
        "from torch import nn\n",
        "from pathlib import Path"
      ]
    },
    {
      "cell_type": "markdown",
      "source": [
        "## Setting up device"
      ],
      "metadata": {
        "id": "qlcTY_zQN2-9"
      }
    },
    {
      "cell_type": "code",
      "source": [
        "device = 'cuda' if torch.cuda.is_available else 'cpu'\n",
        "device"
      ],
      "metadata": {
        "colab": {
          "base_uri": "https://localhost:8080/",
          "height": 0
        },
        "id": "F80g9JzaNMpe",
        "outputId": "5262ea90-b70f-4555-fba7-98b01326a35c"
      },
      "execution_count": 2,
      "outputs": [
        {
          "output_type": "execute_result",
          "data": {
            "text/plain": [
              "'cuda'"
            ],
            "application/vnd.google.colaboratory.intrinsic+json": {
              "type": "string"
            }
          },
          "metadata": {},
          "execution_count": 2
        }
      ]
    },
    {
      "cell_type": "markdown",
      "source": [
        "## Creating straight line dataset\n",
        "\n",
        "Using linear regression formula `weight*X + bias` we are creating a dataset"
      ],
      "metadata": {
        "id": "p1Ncd69ONVsg"
      }
    },
    {
      "cell_type": "code",
      "source": [
        "weight = 0.3\n",
        "bias = 0.9\n",
        "\n",
        "start = 0\n",
        "stop = 1\n",
        "step = 0.02\n",
        "X = torch.arange(start,stop,step).unsqueeze(dim=1)\n",
        "y = weight * X + bias\n",
        "X[:10] , y[:10]"
      ],
      "metadata": {
        "colab": {
          "base_uri": "https://localhost:8080/"
        },
        "id": "slVmbhwqOReh",
        "outputId": "b16575dd-c929-4008-86f5-c98b78279909"
      },
      "execution_count": 3,
      "outputs": [
        {
          "output_type": "execute_result",
          "data": {
            "text/plain": [
              "(tensor([[0.0000],\n",
              "         [0.0200],\n",
              "         [0.0400],\n",
              "         [0.0600],\n",
              "         [0.0800],\n",
              "         [0.1000],\n",
              "         [0.1200],\n",
              "         [0.1400],\n",
              "         [0.1600],\n",
              "         [0.1800]]),\n",
              " tensor([[0.9000],\n",
              "         [0.9060],\n",
              "         [0.9120],\n",
              "         [0.9180],\n",
              "         [0.9240],\n",
              "         [0.9300],\n",
              "         [0.9360],\n",
              "         [0.9420],\n",
              "         [0.9480],\n",
              "         [0.9540]]))"
            ]
          },
          "metadata": {},
          "execution_count": 3
        }
      ]
    },
    {
      "cell_type": "markdown",
      "source": [
        "## Splitting the dataset\n",
        "\n",
        "Here we are splitting the dataset for training and testing purposes following\n",
        "the 80:20 rule"
      ],
      "metadata": {
        "id": "VbBo0OQIO6ro"
      }
    },
    {
      "cell_type": "code",
      "source": [
        "train_test_split = int(0.8*len(X))\n",
        "X_train, y_train = X[:train_test_split],y[:train_test_split]\n",
        "X_test, y_test = X[train_test_split:],y[train_test_split:]\n",
        "len(X_train),len(y_train),len(X_test),len(y_test)"
      ],
      "metadata": {
        "colab": {
          "base_uri": "https://localhost:8080/"
        },
        "id": "kgcGGMjBPVvk",
        "outputId": "8eda0d1b-a32e-4d2d-87b1-2ece0c3fe17d"
      },
      "execution_count": 4,
      "outputs": [
        {
          "output_type": "execute_result",
          "data": {
            "text/plain": [
              "(40, 40, 10, 10)"
            ]
          },
          "metadata": {},
          "execution_count": 4
        }
      ]
    },
    {
      "cell_type": "markdown",
      "source": [
        "## Creating a visualizing function"
      ],
      "metadata": {
        "id": "1kQBVsmgQRoK"
      }
    },
    {
      "cell_type": "code",
      "source": [
        "def plot_prediction(train_data=X_train,\n",
        "                    train_labels=y_train,\n",
        "                    test_data=X_test,\n",
        "                    test_labels=y_test,\n",
        "                    predictions=None):\n",
        "  plt.figure(figsize=(10,7))\n",
        "\n",
        "  plt.scatter(train_data,train_labels,c='b',s=4,label=\"Training data\")\n",
        "\n",
        "  plt.scatter(test_data,test_labels,c='g',s=4,label=\"Testing data\")\n",
        "\n",
        "  if predictions is not None:\n",
        "    plt.scatter(test_data,predictions,c='r',s=4,label=\"Predictions\")\n",
        "\n",
        "  plt.legend(prop={'size':14})\n"
      ],
      "metadata": {
        "id": "lru_o1P9RBv1"
      },
      "execution_count": 5,
      "outputs": []
    },
    {
      "cell_type": "code",
      "source": [
        "plot_prediction()"
      ],
      "metadata": {
        "colab": {
          "base_uri": "https://localhost:8080/",
          "height": 455
        },
        "id": "hl8F3jrFS2Mn",
        "outputId": "d6d63d75-c38e-4d1a-80ff-9d8cc64828de"
      },
      "execution_count": 6,
      "outputs": [
        {
          "output_type": "display_data",
          "data": {
            "text/plain": [
              "<Figure size 1000x700 with 1 Axes>"
            ],
            "image/png": "[encoded data removed]"
          },
          "metadata": {}
        }
      ]
    },
    {
      "cell_type": "markdown",
      "source": [
        "## Creating Model"
      ],
      "metadata": {
        "id": "pVI_StUxS5Vz"
      }
    },
    {
      "cell_type": "code",
      "source": [
        "class LinearRegressionModel(nn.Module):\n",
        "    def __init__(self):\n",
        "      super().__init__()\n",
        "      self.Linear_layer = nn.Linear(in_features=1,out_features=1)\n",
        "\n",
        "    def forward(self, x: torch.Tensor) -> torch.Tensor:\n",
        "      return self.Linear_layer(x)"
      ],
      "metadata": {
        "id": "zsM-KDBOTOTq"
      },
      "execution_count": 7,
      "outputs": []
    },
    {
      "cell_type": "code",
      "source": [
        "torch.manual_seed(42)\n",
        "model_0 = LinearRegressionModel()\n",
        "model_0.state_dict()"
      ],
      "metadata": {
        "colab": {
          "base_uri": "https://localhost:8080/"
        },
        "id": "a1fIInKaVYrL",
        "outputId": "7dbaa6fc-0cbe-4123-ac4e-fe01d0bc558f"
      },
      "execution_count": 8,
      "outputs": [
        {
          "output_type": "execute_result",
          "data": {
            "text/plain": [
              "OrderedDict([('Linear_layer.weight', tensor([[0.7645]])),\n",
              "             ('Linear_layer.bias', tensor([0.8300]))])"
            ]
          },
          "metadata": {},
          "execution_count": 8
        }
      ]
    },
    {
      "cell_type": "markdown",
      "source": [
        "## Generating Random preditions"
      ],
      "metadata": {
        "id": "8usawnb6XZZ5"
      }
    },
    {
      "cell_type": "code",
      "source": [
        "with torch.inference_mode():\n",
        "  y_preds = model_0(X_test)\n",
        "y_preds"
      ],
      "metadata": {
        "colab": {
          "base_uri": "https://localhost:8080/"
        },
        "id": "z7z2rDMdXgHu",
        "outputId": "855a3f28-ad07-458f-cae2-c05a52056fce"
      },
      "execution_count": 9,
      "outputs": [
        {
          "output_type": "execute_result",
          "data": {
            "text/plain": [
              "tensor([[1.4416],\n",
              "        [1.4569],\n",
              "        [1.4722],\n",
              "        [1.4875],\n",
              "        [1.5028],\n",
              "        [1.5181],\n",
              "        [1.5334],\n",
              "        [1.5487],\n",
              "        [1.5640],\n",
              "        [1.5793]])"
            ]
          },
          "metadata": {},
          "execution_count": 9
        }
      ]
    },
    {
      "cell_type": "code",
      "source": [
        "# Plotting the random predictions\n",
        "plot_prediction(predictions=y_preds)"
      ],
      "metadata": {
        "colab": {
          "base_uri": "https://localhost:8080/",
          "height": 460
        },
        "id": "F-0SF9EpX0nS",
        "outputId": "9f960a50-0de1-4c71-b9ed-9c950aa7b48f"
      },
      "execution_count": 10,
      "outputs": [
        {
          "output_type": "display_data",
          "data": {
            "text/plain": [
              "<Figure size 1000x700 with 1 Axes>"
            ],
            "image/png": "[encoded data removed]"
          },
          "metadata": {}
        }
      ]
    },
    {
      "cell_type": "markdown",
      "source": [
        "## Creating a loss function and optimizer"
      ],
      "metadata": {
        "id": "Th_eauyxV-jt"
      }
    },
    {
      "cell_type": "code",
      "source": [
        "loss_fn = nn.L1Loss()\n",
        "optimizer = torch.optim.SGD(params=model_0.parameters(),lr=0.01)"
      ],
      "metadata": {
        "id": "NS8YhkRPWIEc"
      },
      "execution_count": 11,
      "outputs": []
    },
    {
      "cell_type": "markdown",
      "source": [
        "## Creating Training Loop"
      ],
      "metadata": {
        "id": "Bf73zUx1W3Hg"
      }
    },
    {
      "cell_type": "code",
      "source": [
        "torch.manual_seed(42)\n",
        "epochs = 301\n",
        "epoch_count=[]\n",
        "train_loss_values=[]\n",
        "test_loss_values=[]\n",
        "for epoch in range(epochs):\n",
        "\n",
        "  ### It's training time\n",
        "  # 0. Setting up the training mode\n",
        "  model_0.train()\n",
        "\n",
        "  # 1. Make the Forward pass\n",
        "  y_pred = model_0(X_train)\n",
        "\n",
        "  # 2. Calculate the loss\n",
        "  train_loss=loss_fn(y_pred,y_train)\n",
        "\n",
        "  # 3. optimizer zero grad\n",
        "  optimizer.zero_grad()\n",
        "\n",
        "  # 4. Loss backwards\n",
        "  train_loss.backward()\n",
        "\n",
        "  # 5. Optimizer step step step\n",
        "  optimizer.step()\n",
        "\n",
        "\n",
        "  ### It's testing time\n",
        "  # 0. Setting up the testing mode\n",
        "  model_0.eval()\n",
        "\n",
        "  # 1. with torch no grad\n",
        "  with torch.inference_mode():\n",
        "\n",
        "    # 2. Do the forward pass\n",
        "    test_pred = model_0(X_test)\n",
        "\n",
        "    # 3. Calculate the loss\n",
        "    test_loss = loss_fn(test_pred,y_test)\n",
        "\n",
        "    # 4. watch it go down down down\n",
        "    if epoch%20==0:\n",
        "      epoch_count.append(epoch)\n",
        "      train_loss_values.append(train_loss)\n",
        "      test_loss_values.append(test_loss)\n",
        "\n",
        "      print(f\"Epoch: {epoch} | Train Loss: {train_loss} | Test Loss: {test_loss}\")\n",
        "      print(model_0.state_dict())"
      ],
      "metadata": {
        "colab": {
          "base_uri": "https://localhost:8080/"
        },
        "id": "z2AsgIPUYbsz",
        "outputId": "08946650-6ed3-49f8-9d1e-b118c4c14408"
      },
      "execution_count": 12,
      "outputs": [
        {
          "output_type": "stream",
          "name": "stdout",
          "text": [
            "Epoch: 0 | Train Loss: 0.12616769969463348 | Test Loss: 0.33422544598579407\n",
            "OrderedDict([('Linear_layer.weight', tensor([[0.7609]])), ('Linear_layer.bias', tensor([0.8240]))])\n",
            "Epoch: 20 | Train Loss: 0.08189655840396881 | Test Loss: 0.21857480704784393\n",
            "OrderedDict([('Linear_layer.weight', tensor([[0.7012]])), ('Linear_layer.bias', tensor([0.7615]))])\n",
            "Epoch: 40 | Train Loss: 0.07218800485134125 | Test Loss: 0.17499032616615295\n",
            "OrderedDict([('Linear_layer.weight', tensor([[0.6590]])), ('Linear_layer.bias', tensor([0.7555]))])\n",
            "Epoch: 60 | Train Loss: 0.06520797312259674 | Test Loss: 0.15295077860355377\n",
            "OrderedDict([('Linear_layer.weight', tensor([[0.6230]])), ('Linear_layer.bias', tensor([0.7655]))])\n",
            "Epoch: 80 | Train Loss: 0.05831370875239372 | Test Loss: 0.1357191950082779\n",
            "OrderedDict([('Linear_layer.weight', tensor([[0.5884]])), ('Linear_layer.bias', tensor([0.7790]))])\n",
            "Epoch: 100 | Train Loss: 0.051440197974443436 | Test Loss: 0.11986131966114044\n",
            "OrderedDict([('Linear_layer.weight', tensor([[0.5543]])), ('Linear_layer.bias', tensor([0.7935]))])\n",
            "Epoch: 120 | Train Loss: 0.04457508772611618 | Test Loss: 0.10331656038761139\n",
            "OrderedDict([('Linear_layer.weight', tensor([[0.5200]])), ('Linear_layer.bias', tensor([0.8075]))])\n",
            "Epoch: 140 | Train Loss: 0.03770974278450012 | Test Loss: 0.08745871484279633\n",
            "OrderedDict([('Linear_layer.weight', tensor([[0.4859]])), ('Linear_layer.bias', tensor([0.8220]))])\n",
            "Epoch: 160 | Train Loss: 0.03083621896803379 | Test Loss: 0.07160083949565887\n",
            "OrderedDict([('Linear_layer.weight', tensor([[0.4518]])), ('Linear_layer.bias', tensor([0.8365]))])\n",
            "Epoch: 180 | Train Loss: 0.02396780252456665 | Test Loss: 0.055056132376194\n",
            "OrderedDict([('Linear_layer.weight', tensor([[0.4175]])), ('Linear_layer.bias', tensor([0.8505]))])\n",
            "Epoch: 200 | Train Loss: 0.01710296794772148 | Test Loss: 0.03919823095202446\n",
            "OrderedDict([('Linear_layer.weight', tensor([[0.3834]])), ('Linear_layer.bias', tensor([0.8650]))])\n",
            "Epoch: 220 | Train Loss: 0.010232259519398212 | Test Loss: 0.023340392857789993\n",
            "OrderedDict([('Linear_layer.weight', tensor([[0.3492]])), ('Linear_layer.bias', tensor([0.8795]))])\n",
            "Epoch: 240 | Train Loss: 0.003360512899234891 | Test Loss: 0.006795656867325306\n",
            "OrderedDict([('Linear_layer.weight', tensor([[0.3149]])), ('Linear_layer.bias', tensor([0.8935]))])\n",
            "Epoch: 260 | Train Loss: 0.007012799382209778 | Test Loss: 0.003249275730922818\n",
            "OrderedDict([('Linear_layer.weight', tensor([[0.3025]])), ('Linear_layer.bias', tensor([0.8945]))])\n",
            "Epoch: 280 | Train Loss: 0.007012799382209778 | Test Loss: 0.003249275730922818\n",
            "OrderedDict([('Linear_layer.weight', tensor([[0.3025]])), ('Linear_layer.bias', tensor([0.8945]))])\n",
            "Epoch: 300 | Train Loss: 0.007012799382209778 | Test Loss: 0.003249275730922818\n",
            "OrderedDict([('Linear_layer.weight', tensor([[0.3025]])), ('Linear_layer.bias', tensor([0.8945]))])\n"
          ]
        }
      ]
    },
    {
      "cell_type": "code",
      "source": [
        "epoch_count,train_loss_values,test_loss_values"
      ],
      "metadata": {
        "colab": {
          "base_uri": "https://localhost:8080/"
        },
        "id": "U6sqC94adR7f",
        "outputId": "ba2df207-0b2f-4fd0-872b-b6c08dcf1413"
      },
      "execution_count": 13,
      "outputs": [
        {
          "output_type": "execute_result",
          "data": {
            "text/plain": [
              "([0, 20, 40, 60, 80, 100, 120, 140, 160, 180, 200, 220, 240, 260, 280, 300],\n",
              " [tensor(0.1262, grad_fn=<MeanBackward0>),\n",
              "  tensor(0.0819, grad_fn=<MeanBackward0>),\n",
              "  tensor(0.0722, grad_fn=<MeanBackward0>),\n",
              "  tensor(0.0652, grad_fn=<MeanBackward0>),\n",
              "  tensor(0.0583, grad_fn=<MeanBackward0>),\n",
              "  tensor(0.0514, grad_fn=<MeanBackward0>),\n",
              "  tensor(0.0446, grad_fn=<MeanBackward0>),\n",
              "  tensor(0.0377, grad_fn=<MeanBackward0>),\n",
              "  tensor(0.0308, grad_fn=<MeanBackward0>),\n",
              "  tensor(0.0240, grad_fn=<MeanBackward0>),\n",
              "  tensor(0.0171, grad_fn=<MeanBackward0>),\n",
              "  tensor(0.0102, grad_fn=<MeanBackward0>),\n",
              "  tensor(0.0034, grad_fn=<MeanBackward0>),\n",
              "  tensor(0.0070, grad_fn=<MeanBackward0>),\n",
              "  tensor(0.0070, grad_fn=<MeanBackward0>),\n",
              "  tensor(0.0070, grad_fn=<MeanBackward0>)],\n",
              " [tensor(0.3342),\n",
              "  tensor(0.2186),\n",
              "  tensor(0.1750),\n",
              "  tensor(0.1530),\n",
              "  tensor(0.1357),\n",
              "  tensor(0.1199),\n",
              "  tensor(0.1033),\n",
              "  tensor(0.0875),\n",
              "  tensor(0.0716),\n",
              "  tensor(0.0551),\n",
              "  tensor(0.0392),\n",
              "  tensor(0.0233),\n",
              "  tensor(0.0068),\n",
              "  tensor(0.0032),\n",
              "  tensor(0.0032),\n",
              "  tensor(0.0032)])"
            ]
          },
          "metadata": {},
          "execution_count": 13
        }
      ]
    },
    {
      "cell_type": "code",
      "source": [
        "# Plotting the loss curves\n",
        "plt.plot(epoch_count,np.array(torch.tensor(train_loss_values).numpy()),label='train loss')\n",
        "plt.plot(epoch_count,test_loss_values,label='test loss')\n",
        "plt.title('Training and test loss curves')\n",
        "plt.ylabel('Loss')\n",
        "plt.xlabel('Epochs')\n",
        "plt.legend()"
      ],
      "metadata": {
        "colab": {
          "base_uri": "https://localhost:8080/",
          "height": 0
        },
        "id": "ZFzpCEaEd9Ba",
        "outputId": "5272856e-b453-4d29-830d-88a9d97719ef"
      },
      "execution_count": 14,
      "outputs": [
        {
          "output_type": "execute_result",
          "data": {
            "text/plain": [
              "<matplotlib.legend.Legend at 0x7ee95983e8f0>"
            ]
          },
          "metadata": {},
          "execution_count": 14
        },
        {
          "output_type": "display_data",
          "data": {
            "text/plain": [
              "<Figure size 640x480 with 1 Axes>"
            ],
            "image/png": "[encoded data removed]"
          },
          "metadata": {}
        }
      ]
    },
    {
      "cell_type": "markdown",
      "source": [
        "## Making Predictions with Trained Model"
      ],
      "metadata": {
        "id": "xN_vZ1zye6dY"
      }
    },
    {
      "cell_type": "code",
      "source": [
        "with torch.inference_mode():\n",
        "  y_pred = model_0(X_test)\n",
        "y_pred"
      ],
      "metadata": {
        "colab": {
          "base_uri": "https://localhost:8080/"
        },
        "id": "FmqMV6J8fg4p",
        "outputId": "94cac270-2f11-4bd7-ded4-5d71ebbe915a"
      },
      "execution_count": 15,
      "outputs": [
        {
          "output_type": "execute_result",
          "data": {
            "text/plain": [
              "tensor([[1.1365],\n",
              "        [1.1426],\n",
              "        [1.1486],\n",
              "        [1.1547],\n",
              "        [1.1607],\n",
              "        [1.1668],\n",
              "        [1.1728],\n",
              "        [1.1789],\n",
              "        [1.1849],\n",
              "        [1.1910]])"
            ]
          },
          "metadata": {},
          "execution_count": 15
        }
      ]
    },
    {
      "cell_type": "code",
      "source": [
        "# Plotting predictions\n",
        "plot_prediction(predictions=y_pred)"
      ],
      "metadata": {
        "colab": {
          "base_uri": "https://localhost:8080/",
          "height": 466
        },
        "id": "vZMwdxkrfuDz",
        "outputId": "73b80fa5-8ba1-43ba-c5db-50aef8d1c38b"
      },
      "execution_count": 16,
      "outputs": [
        {
          "output_type": "display_data",
          "data": {
            "text/plain": [
              "<Figure size 1000x700 with 1 Axes>"
            ],
            "image/png": "[encoded data removed]"
          },
          "metadata": {}
        }
      ]
    },
    {
      "cell_type": "markdown",
      "source": [
        "## Saving the model"
      ],
      "metadata": {
        "id": "uL73J8GCf43W"
      }
    },
    {
      "cell_type": "code",
      "source": [
        "MODEL_PATH = Path(\"models\")\n",
        "MODEL_PATH.mkdir(parents=True,exist_ok=True)\n",
        "MODEL_NAME = \"simple_linear_regression_model.pth\"\n",
        "MODEL_SAVE_PATH = MODEL_PATH/MODEL_NAME\n",
        "print(f\"Saving model to; {MODEL_SAVE_PATH}\")\n",
        "torch.save(obj=model_0.state_dict(),f=MODEL_SAVE_PATH)"
      ],
      "metadata": {
        "colab": {
          "base_uri": "https://localhost:8080/"
        },
        "id": "-ekhCdcbgOXM",
        "outputId": "1d0184cd-3e5a-4e12-c09c-2b04eea9475b"
      },
      "execution_count": 17,
      "outputs": [
        {
          "output_type": "stream",
          "name": "stdout",
          "text": [
            "Saving model to; models/simple_linear_regression_model.pth\n"
          ]
        }
      ]
    },
    {
      "cell_type": "code",
      "source": [
        "!ls -l models"
      ],
      "metadata": {
        "colab": {
          "base_uri": "https://localhost:8080/"
        },
        "id": "8EdymDVUikj2",
        "outputId": "39674cde-d409-4814-8ed2-9ae4cf4f808a"
      },
      "execution_count": 18,
      "outputs": [
        {
          "output_type": "stream",
          "name": "stdout",
          "text": [
            "total 4\n",
            "-rw-r--r-- 1 root root 1762 Mar 12 07:29 simple_linear_regression_model.pth\n"
          ]
        }
      ]
    },
    {
      "cell_type": "markdown",
      "source": [
        "## Loading the pytorch model"
      ],
      "metadata": {
        "id": "93Y380tFiz61"
      }
    },
    {
      "cell_type": "code",
      "source": [
        "loaded_model_0 = LinearRegressionModel()\n",
        "loaded_model_0.load_state_dict(torch.load(MODEL_SAVE_PATH))"
      ],
      "metadata": {
        "colab": {
          "base_uri": "https://localhost:8080/"
        },
        "id": "ev4ZJMMTi-m5",
        "outputId": "c4866899-ec36-4026-cb48-ddb4d4a6492d"
      },
      "execution_count": 24,
      "outputs": [
        {
          "output_type": "execute_result",
          "data": {
            "text/plain": [
              "<All keys matched successfully>"
            ]
          },
          "metadata": {},
          "execution_count": 24
        }
      ]
    },
    {
      "cell_type": "code",
      "source": [
        "loaded_model_0.state_dict()"
      ],
      "metadata": {
        "colab": {
          "base_uri": "https://localhost:8080/"
        },
        "id": "IvRruxzSjV28",
        "outputId": "823fafaf-1ef7-41ff-bafd-19a089d5b2b8"
      },
      "execution_count": 20,
      "outputs": [
        {
          "output_type": "execute_result",
          "data": {
            "text/plain": [
              "OrderedDict([('Linear_layer.weight', tensor([[0.3025]])),\n",
              "             ('Linear_layer.bias', tensor([0.8945]))])"
            ]
          },
          "metadata": {},
          "execution_count": 20
        }
      ]
    },
    {
      "cell_type": "markdown",
      "source": [
        "## Making predictions with loaded model"
      ],
      "metadata": {
        "id": "sw_RPZT9jbAI"
      }
    },
    {
      "cell_type": "code",
      "source": [
        "loaded_model_0.eval()\n",
        "with torch.inference_mode():\n",
        "  loaded_model_preds = loaded_model_0(X_test)\n",
        "y_pred == loaded_model_preds"
      ],
      "metadata": {
        "colab": {
          "base_uri": "https://localhost:8080/"
        },
        "id": "8UYiydJPjiLq",
        "outputId": "9f501e7e-3138-4d2d-9a86-baa2998fe7fd"
      },
      "execution_count": 25,
      "outputs": [
        {
          "output_type": "execute_result",
          "data": {
            "text/plain": [
              "tensor([[True],\n",
              "        [True],\n",
              "        [True],\n",
              "        [True],\n",
              "        [True],\n",
              "        [True],\n",
              "        [True],\n",
              "        [True],\n",
              "        [True],\n",
              "        [True]])"
            ]
          },
          "metadata": {},
          "execution_count": 25
        }
      ]
    },
    {
      "cell_type": "code",
      "source": [],
      "metadata": {
        "id": "k7sbumddkAt_"
      },
      "execution_count": 25,
      "outputs": []
    }
  ]
}